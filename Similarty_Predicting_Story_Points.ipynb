{
  "nbformat": 4,
  "nbformat_minor": 0,
  "metadata": {
    "colab": {
      "name": "Copy of 2-Predicting Story Points.ipynb",
      "version": "0.3.2",
      "provenance": [],
      "collapsed_sections": [
        "3e_kyJnj0u4H",
        "GOWv7GFv0PEQ"
      ],
      "toc_visible": true,
      "include_colab_link": true
    },
    "kernelspec": {
      "name": "python2",
      "display_name": "Python 2"
    },
    "accelerator": "GPU"
  },
  "cells": [
    {
      "cell_type": "markdown",
      "metadata": {
        "id": "view-in-github",
        "colab_type": "text"
      },
      "source": [
        "<a href=\"https://colab.research.google.com/github/muratakkas/icssp2018/blob/master/Similarty_Predicting_Story_Points.ipynb\" target=\"_parent\"><img src=\"https://colab.research.google.com/assets/colab-badge.svg\" alt=\"Open In Colab\"/></a>"
      ]
    },
    {
      "metadata": {
        "id": "7R81yVrT0uzV",
        "colab_type": "text"
      },
      "cell_type": "markdown",
      "source": [
        "# Reading the dataset"
      ]
    },
    {
      "metadata": {
        "id": "0CcQHqG30-EB",
        "colab_type": "code",
        "outputId": "e91412b7-69cb-47d2-f80e-848859dacc5b",
        "colab": {
          "base_uri": "https://localhost:8080/",
          "height": 34
        }
      },
      "cell_type": "code",
      "source": [
        "from google.colab import drive\n",
        "drive.mount('/content/gdrive')"
      ],
      "execution_count": 115,
      "outputs": [
        {
          "output_type": "stream",
          "text": [
            "Drive already mounted at /content/gdrive; to attempt to forcibly remount, call drive.mount(\"/content/gdrive\", force_remount=True).\n"
          ],
          "name": "stdout"
        }
      ]
    },
    {
      "metadata": {
        "id": "vSbwDx6Egv8H",
        "colab_type": "code",
        "colab": {}
      },
      "cell_type": "code",
      "source": [
        ""
      ],
      "execution_count": 0,
      "outputs": []
    },
    {
      "metadata": {
        "id": "f97nKnnc22J9",
        "colab_type": "code",
        "outputId": "206e1452-45d2-49d9-b526-e6b769bea0b2",
        "colab": {
          "base_uri": "https://localhost:8080/",
          "height": 34
        }
      },
      "cell_type": "code",
      "source": [
        "with open('/content/gdrive/My Drive/foo.txt', 'w') as f:\n",
        "  f.write('Hello Google Drive!')\n",
        "!cat /content/gdrive/My\\ Drive/foo.txt"
      ],
      "execution_count": 116,
      "outputs": [
        {
          "output_type": "stream",
          "text": [
            "Hello Google Drive!"
          ],
          "name": "stdout"
        }
      ]
    },
    {
      "metadata": {
        "id": "cK2o7yew0uza",
        "colab_type": "code",
        "outputId": "8d253ba6-a3ff-4786-e1d9-b0e79040fb19",
        "colab": {
          "base_uri": "https://localhost:8080/",
          "height": 34
        }
      },
      "cell_type": "code",
      "source": [
        "import pandas as pd\n",
        "import numpy as np\n",
        "\n",
        "from __future__ import division \n",
        "\n",
        "# reading issues\n",
        "df = pd.read_csv(\"/content/gdrive/My Drive/CustomData/jiradataset_issues.csv\")\n",
        "# Reading the changelog\n",
        "changelog = pd.read_csv(\"/content/gdrive/My Drive/CustomData/jiradataset_changelog.csv\")\n",
        "\n",
        "print 'Dataset size: {0}'.format(len(df))"
      ],
      "execution_count": 117,
      "outputs": [
        {
          "output_type": "stream",
          "text": [
            "Dataset size: 15155\n"
          ],
          "name": "stdout"
        }
      ]
    },
    {
      "metadata": {
        "id": "VS5oeAoL0uzm",
        "colab_type": "code",
        "outputId": "e247c1ec-e0dd-4a28-9845-eb2aa92ef502",
        "colab": {
          "base_uri": "https://localhost:8080/",
          "height": 359
        }
      },
      "cell_type": "code",
      "source": [
        "summary = df.pivot_table(index='project', columns=['fields.issuetype.name'], values='key', aggfunc='count', fill_value=0, margins=True)\n",
        "summary"
      ],
      "execution_count": 118,
      "outputs": [
        {
          "output_type": "execute_result",
          "data": {
            "text/html": [
              "<div>\n",
              "<style scoped>\n",
              "    .dataframe tbody tr th:only-of-type {\n",
              "        vertical-align: middle;\n",
              "    }\n",
              "\n",
              "    .dataframe tbody tr th {\n",
              "        vertical-align: top;\n",
              "    }\n",
              "\n",
              "    .dataframe thead th {\n",
              "        text-align: right;\n",
              "    }\n",
              "</style>\n",
              "<table border=\"1\" class=\"dataframe\">\n",
              "  <thead>\n",
              "    <tr style=\"text-align: right;\">\n",
              "      <th>fields.issuetype.name</th>\n",
              "      <th>Bug</th>\n",
              "      <th>Documentation</th>\n",
              "      <th>Epic</th>\n",
              "      <th>Improvement</th>\n",
              "      <th>New Feature</th>\n",
              "      <th>Patch submission</th>\n",
              "      <th>Story</th>\n",
              "      <th>Sub-task</th>\n",
              "      <th>Task</th>\n",
              "      <th>Technical Debt</th>\n",
              "      <th>Technical task</th>\n",
              "      <th>Wish</th>\n",
              "      <th>All</th>\n",
              "    </tr>\n",
              "    <tr>\n",
              "      <th>project</th>\n",
              "      <th></th>\n",
              "      <th></th>\n",
              "      <th></th>\n",
              "      <th></th>\n",
              "      <th></th>\n",
              "      <th></th>\n",
              "      <th></th>\n",
              "      <th></th>\n",
              "      <th></th>\n",
              "      <th></th>\n",
              "      <th></th>\n",
              "      <th></th>\n",
              "      <th></th>\n",
              "    </tr>\n",
              "  </thead>\n",
              "  <tbody>\n",
              "    <tr>\n",
              "      <th>apstud</th>\n",
              "      <td>456</td>\n",
              "      <td>0</td>\n",
              "      <td>7</td>\n",
              "      <td>159</td>\n",
              "      <td>1</td>\n",
              "      <td>0</td>\n",
              "      <td>202</td>\n",
              "      <td>0</td>\n",
              "      <td>0</td>\n",
              "      <td>0</td>\n",
              "      <td>61</td>\n",
              "      <td>0</td>\n",
              "      <td>886</td>\n",
              "    </tr>\n",
              "    <tr>\n",
              "      <th>dnn</th>\n",
              "      <td>1129</td>\n",
              "      <td>0</td>\n",
              "      <td>0</td>\n",
              "      <td>315</td>\n",
              "      <td>10</td>\n",
              "      <td>0</td>\n",
              "      <td>278</td>\n",
              "      <td>92</td>\n",
              "      <td>70</td>\n",
              "      <td>0</td>\n",
              "      <td>0</td>\n",
              "      <td>0</td>\n",
              "      <td>1894</td>\n",
              "    </tr>\n",
              "    <tr>\n",
              "      <th>mesos</th>\n",
              "      <td>517</td>\n",
              "      <td>82</td>\n",
              "      <td>9</td>\n",
              "      <td>377</td>\n",
              "      <td>0</td>\n",
              "      <td>0</td>\n",
              "      <td>21</td>\n",
              "      <td>0</td>\n",
              "      <td>462</td>\n",
              "      <td>0</td>\n",
              "      <td>0</td>\n",
              "      <td>4</td>\n",
              "      <td>1472</td>\n",
              "    </tr>\n",
              "    <tr>\n",
              "      <th>mule</th>\n",
              "      <td>595</td>\n",
              "      <td>0</td>\n",
              "      <td>2</td>\n",
              "      <td>252</td>\n",
              "      <td>121</td>\n",
              "      <td>2</td>\n",
              "      <td>33</td>\n",
              "      <td>2</td>\n",
              "      <td>274</td>\n",
              "      <td>0</td>\n",
              "      <td>0</td>\n",
              "      <td>0</td>\n",
              "      <td>1281</td>\n",
              "    </tr>\n",
              "    <tr>\n",
              "      <th>nexus</th>\n",
              "      <td>705</td>\n",
              "      <td>0</td>\n",
              "      <td>0</td>\n",
              "      <td>302</td>\n",
              "      <td>0</td>\n",
              "      <td>0</td>\n",
              "      <td>31</td>\n",
              "      <td>0</td>\n",
              "      <td>25</td>\n",
              "      <td>8</td>\n",
              "      <td>0</td>\n",
              "      <td>0</td>\n",
              "      <td>1071</td>\n",
              "    </tr>\n",
              "    <tr>\n",
              "      <th>timob</th>\n",
              "      <td>1143</td>\n",
              "      <td>0</td>\n",
              "      <td>17</td>\n",
              "      <td>268</td>\n",
              "      <td>218</td>\n",
              "      <td>0</td>\n",
              "      <td>289</td>\n",
              "      <td>34</td>\n",
              "      <td>0</td>\n",
              "      <td>0</td>\n",
              "      <td>21</td>\n",
              "      <td>0</td>\n",
              "      <td>1990</td>\n",
              "    </tr>\n",
              "    <tr>\n",
              "      <th>tistud</th>\n",
              "      <td>1450</td>\n",
              "      <td>0</td>\n",
              "      <td>0</td>\n",
              "      <td>536</td>\n",
              "      <td>37</td>\n",
              "      <td>0</td>\n",
              "      <td>618</td>\n",
              "      <td>20</td>\n",
              "      <td>0</td>\n",
              "      <td>0</td>\n",
              "      <td>209</td>\n",
              "      <td>0</td>\n",
              "      <td>2870</td>\n",
              "    </tr>\n",
              "    <tr>\n",
              "      <th>xd</th>\n",
              "      <td>598</td>\n",
              "      <td>0</td>\n",
              "      <td>111</td>\n",
              "      <td>307</td>\n",
              "      <td>0</td>\n",
              "      <td>0</td>\n",
              "      <td>2590</td>\n",
              "      <td>0</td>\n",
              "      <td>0</td>\n",
              "      <td>0</td>\n",
              "      <td>85</td>\n",
              "      <td>0</td>\n",
              "      <td>3691</td>\n",
              "    </tr>\n",
              "    <tr>\n",
              "      <th>All</th>\n",
              "      <td>6593</td>\n",
              "      <td>82</td>\n",
              "      <td>146</td>\n",
              "      <td>2516</td>\n",
              "      <td>387</td>\n",
              "      <td>2</td>\n",
              "      <td>4062</td>\n",
              "      <td>148</td>\n",
              "      <td>831</td>\n",
              "      <td>8</td>\n",
              "      <td>376</td>\n",
              "      <td>4</td>\n",
              "      <td>15155</td>\n",
              "    </tr>\n",
              "  </tbody>\n",
              "</table>\n",
              "</div>"
            ],
            "text/plain": [
              "fields.issuetype.name   Bug  Documentation  Epic  Improvement  New Feature  \\\n",
              "project                                                                      \n",
              "apstud                  456              0     7          159            1   \n",
              "dnn                    1129              0     0          315           10   \n",
              "mesos                   517             82     9          377            0   \n",
              "mule                    595              0     2          252          121   \n",
              "nexus                   705              0     0          302            0   \n",
              "timob                  1143              0    17          268          218   \n",
              "tistud                 1450              0     0          536           37   \n",
              "xd                      598              0   111          307            0   \n",
              "All                    6593             82   146         2516          387   \n",
              "\n",
              "fields.issuetype.name  Patch submission  Story  Sub-task  Task  \\\n",
              "project                                                          \n",
              "apstud                                0    202         0     0   \n",
              "dnn                                   0    278        92    70   \n",
              "mesos                                 0     21         0   462   \n",
              "mule                                  2     33         2   274   \n",
              "nexus                                 0     31         0    25   \n",
              "timob                                 0    289        34     0   \n",
              "tistud                                0    618        20     0   \n",
              "xd                                    0   2590         0     0   \n",
              "All                                   2   4062       148   831   \n",
              "\n",
              "fields.issuetype.name  Technical Debt  Technical task  Wish    All  \n",
              "project                                                             \n",
              "apstud                              0              61     0    886  \n",
              "dnn                                 0               0     0   1894  \n",
              "mesos                               0               0     4   1472  \n",
              "mule                                0               0     0   1281  \n",
              "nexus                               8               0     0   1071  \n",
              "timob                               0              21     0   1990  \n",
              "tistud                              0             209     0   2870  \n",
              "xd                                  0              85     0   3691  \n",
              "All                                 8             376     4  15155  "
            ]
          },
          "metadata": {
            "tags": []
          },
          "execution_count": 118
        }
      ]
    },
    {
      "metadata": {
        "id": "P2k9cD9-0uzw",
        "colab_type": "text"
      },
      "cell_type": "markdown",
      "source": [
        "# Cleaning steps"
      ]
    },
    {
      "metadata": {
        "id": "ZRkA3xkm0uzz",
        "colab_type": "text"
      },
      "cell_type": "markdown",
      "source": [
        "0 - Remove all the issues whose assignee is null"
      ]
    },
    {
      "metadata": {
        "id": "HNX07hDd0uz1",
        "colab_type": "code",
        "outputId": "40274543-4646-4d4b-90dd-5fc4ff00afac",
        "colab": {
          "base_uri": "https://localhost:8080/",
          "height": 34
        }
      },
      "cell_type": "code",
      "source": [
        "xd1 = df[(df['fields.assignee.name'].notnull())]\n",
        "\n",
        "print len(xd1)"
      ],
      "execution_count": 119,
      "outputs": [
        {
          "output_type": "stream",
          "text": [
            "12586\n"
          ],
          "name": "stdout"
        }
      ]
    },
    {
      "metadata": {
        "id": "R9Y9eGwa0uz9",
        "colab_type": "text"
      },
      "cell_type": "markdown",
      "source": [
        "1- Story points must have been assigned once and never updated afterward. In fact, if the story points estimate gets updated, it may mean that the initial version of the issue report had misleading information, which would confuse the classifier. This explains why we filter out such issue reports. (Porru et al.)"
      ]
    },
    {
      "metadata": {
        "id": "xvxAXH8f0uz_",
        "colab_type": "code",
        "outputId": "757907b5-cfa8-43db-f12b-d08eb53301d3",
        "colab": {
          "base_uri": "https://localhost:8080/",
          "height": 51
        }
      },
      "cell_type": "code",
      "source": [
        "# Filtering all the user stories that have been updated in the story points field\n",
        "print \"Original size: {0}\".format(len(xd1))\n",
        "\n",
        "remove = changelog[((changelog['field'] == 'Story Points') | ( changelog['field'] == 'Actual Story Points' )\n",
        "                       | ( changelog['field'] == 'Story Size' ) | ( changelog['field'] == 'QA Story Points' ) \n",
        "                       | ( changelog['field'] == 'Effort points' ) | ( changelog['field'] == 'Value/Effort' )\n",
        "                       | ( changelog['field'] == 'Effort' ) | ( changelog['field'] == 'Points' ) )  \n",
        "                       & (changelog['fromString'].notnull()) ]\n",
        "\n",
        "xd2 = xd1[ ~xd1['key'].isin(remove['key']) ]\n",
        "\n",
        "print \"After removing: {0} ({1:4.2f}%)\".format(len(xd2), len(xd2)/len(xd1)*100)"
      ],
      "execution_count": 120,
      "outputs": [
        {
          "output_type": "stream",
          "text": [
            "Original size: 12586\n",
            "After removing: 12357 (98.18%)\n"
          ],
          "name": "stdout"
        }
      ]
    },
    {
      "metadata": {
        "id": "2zApAuj10u0G",
        "colab_type": "text"
      },
      "cell_type": "markdown",
      "source": [
        "2- The issue must be addressed. We consider an issue addressed when its Status is set to Closed (or similar, e.g. Fixed, Completed) and its resolution field is set to Fixed (or similar, e.g. Done, Completed). Note that fields such as Story Points and Description may be adjusted or updated at any given time. However, once the issue is addressed updates rarely happen. For instance, in the industrial project this event happens for less than 4% (49/1368) of the issues. Here as for the other projects, we filter out issue reports not ad- dressed, because they are likely to be unstable, hence they might confuse the classifier."
      ]
    },
    {
      "metadata": {
        "id": "7zTmB55V0u0J",
        "colab_type": "code",
        "outputId": "b6286db2-198e-47f2-b1e7-629ce8dab3d2",
        "colab": {
          "base_uri": "https://localhost:8080/",
          "height": 34
        }
      },
      "cell_type": "code",
      "source": [
        "xd3 = xd2[((xd2['fields.status.name'] == 'Done') | (xd2['fields.status.name'] == 'Closed') \n",
        "           | (xd2['fields.status.name'] == 'Resolved') | (xd2['fields.status.name'] == 'Accepted') ) \n",
        "          & ((xd2['fields.resolution.name'] == 'Complete') | (xd2['fields.resolution.name'] == 'Fixed') \n",
        "          | (xd2['fields.resolution.name'] == 'Done') | (xd2['fields.resolution.name'] == 'Resolved') \n",
        "          | (xd2['fields.resolution.name'] == 'Completed'))]\n",
        "\n",
        "print \"After removing: {0} ({1:4.2f}%)\".format(len(xd3), len(xd3)/len(xd1)*100)"
      ],
      "execution_count": 121,
      "outputs": [
        {
          "output_type": "stream",
          "text": [
            "After removing: 10257 (81.50%)\n"
          ],
          "name": "stdout"
        }
      ]
    },
    {
      "metadata": {
        "id": "WXVVvMci0u0Q",
        "colab_type": "text"
      },
      "cell_type": "markdown",
      "source": [
        "3- Once the story points are assigned, the informative fields of the issue (i) must be already set and (ii) their value must not have been changed afterward. We define informative fields: Issue Type, Description, Summary, and Component/s. We filter out issues whose informative fields are updated after story points initialization because they, again, are likely to represent unstable issues."
      ]
    },
    {
      "metadata": {
        "id": "cxBCj1xR0u0S",
        "colab_type": "code",
        "outputId": "373885cf-2021-42eb-e8f7-7a212dcc7114",
        "colab": {
          "base_uri": "https://localhost:8080/",
          "height": 34
        }
      },
      "cell_type": "code",
      "source": [
        "# (i) the informative fields of the issue must be already set\n",
        "\n",
        "# check if the fields are null or empty\n",
        "xd4 = xd3[(xd3['fields.issuetype.name'] != '') &\n",
        "    (xd3['fields.description'].notnull()) &\n",
        "    (xd3['fields.summary'].notnull())]\n",
        "\n",
        "# only US with components\n",
        "keys = []\n",
        "for i in range(len(xd4)):\n",
        "    components = xd4.iloc[i]['fields.components']\n",
        "    \n",
        "    if (components != '[]'):\n",
        "        keys.append(xd4.iloc[i]['key'])\n",
        "\n",
        "len(keys)\n",
        "\n",
        "xd5 = xd4[xd4['key'].isin(keys)]\n",
        "\n",
        "print \"After removing: {0} ({1:4.2f}%)\".format(len(xd5), len(xd5)/len(xd1)*100)"
      ],
      "execution_count": 122,
      "outputs": [
        {
          "output_type": "stream",
          "text": [
            "After removing: 7280 (57.84%)\n"
          ],
          "name": "stdout"
        }
      ]
    },
    {
      "metadata": {
        "id": "E1Xp_8Jj0u0o",
        "colab_type": "code",
        "outputId": "5e045576-6e60-4339-c387-af6cfd71c1f0",
        "colab": {
          "base_uri": "https://localhost:8080/",
          "height": 34
        }
      },
      "cell_type": "code",
      "source": [
        "# We filter out issues whose informative fields are updated after story points initialization\n",
        "#  ['fields.issuetype.name', 'fields.description', 'fields.summary', 'fields.components']\n",
        "\n",
        "# get story points initialization date\n",
        "\n",
        "sp = changelog[((changelog['field'] == 'Actual Story Points') | (changelog['field'] == 'Story Points')) \n",
        "          & (changelog['fromString'].isnull())]\n",
        "\n",
        "ifields = changelog[ (changelog['field'] == 'issuetype') |\n",
        "                    (changelog['field'] == 'description') |\n",
        "                    (changelog['field'] == 'summary') |\n",
        "                    (changelog['field'] == 'Component') ]\n",
        "\n",
        "to_remove = []\n",
        "for i in range(len(ifields)):\n",
        "    key = ifields.iloc[i]['key']\n",
        "    #print key\n",
        "    \n",
        "    original_date = pd.to_datetime(xd5[xd5.key == key]['fields.created'])\n",
        "    \n",
        "    #print original_date\n",
        "    \n",
        "    #print sp[ sp.key == key ]\n",
        "    # story points initialization date\n",
        "    spinit = pd.to_datetime(sp[ sp.key == key ].created)\n",
        "    \n",
        "    # update date of the informative field\n",
        "    updatedate = pd.to_datetime(ifields.iloc[i]['created'])\n",
        "    \n",
        "    if not spinit.empty:\n",
        "        if updatedate > pd.to_datetime(spinit.iloc[0]):\n",
        "            to_remove.append(key)\n",
        "    elif not original_date.empty:\n",
        "        if updatedate > pd.to_datetime(original_date.iloc[0]):\n",
        "            to_remove.append(key)\n",
        "\n",
        "xd6 = xd5[~xd5['key'].isin(to_remove)]\n",
        "\n",
        "print \"After removing: {0} ({1:4.2f}%)\".format(len(xd6), len(xd6)/len(xd1)*100)"
      ],
      "execution_count": 123,
      "outputs": [
        {
          "output_type": "stream",
          "text": [
            "After removing: 7222 (57.38%)\n"
          ],
          "name": "stdout"
        }
      ]
    },
    {
      "metadata": {
        "id": "VXPyuhor0u0x",
        "colab_type": "text"
      },
      "cell_type": "markdown",
      "source": [
        "4- Take the user stories which have points according to the fibonacci series"
      ]
    },
    {
      "metadata": {
        "id": "-m9zEbgY0u01",
        "colab_type": "code",
        "outputId": "9d83273c-1cf7-4f0c-b266-30cff62058b1",
        "colab": {
          "base_uri": "https://localhost:8080/",
          "height": 34
        }
      },
      "cell_type": "code",
      "source": [
        "fibonacci = [0.5, 1, 2, 3, 5, 8, 13, 20, 40, 100]\n",
        "\n",
        "xd7 = xd6[ xd6['storypoints'].isin(fibonacci)]\n",
        "\n",
        "print \"After removing: {0} ({1:4.2f}%)\".format(len(xd7), len(xd7)/len(xd1)*100)"
      ],
      "execution_count": 124,
      "outputs": [
        {
          "output_type": "stream",
          "text": [
            "After removing: 6757 (53.69%)\n"
          ],
          "name": "stdout"
        }
      ]
    },
    {
      "metadata": {
        "id": "MyTIHqob0u0-",
        "colab_type": "text"
      },
      "cell_type": "markdown",
      "source": [
        "## Choosing the filter\n",
        "x0 ... x7 are the filters we applied before. "
      ]
    },
    {
      "metadata": {
        "id": "qqjPhb-M0u1C",
        "colab_type": "code",
        "outputId": "b4be7064-e973-48c8-b5e2-e112ef1d6c1b",
        "colab": {
          "base_uri": "https://localhost:8080/",
          "height": 34
        }
      },
      "cell_type": "code",
      "source": [
        "xdf = xd7\n",
        "\n",
        "print 'Filtered dataset size: {0}'.format(len(xdf))"
      ],
      "execution_count": 125,
      "outputs": [
        {
          "output_type": "stream",
          "text": [
            "Filtered dataset size: 6757\n"
          ],
          "name": "stdout"
        }
      ]
    },
    {
      "metadata": {
        "id": "6-trSP_r0u1L",
        "colab_type": "text"
      },
      "cell_type": "markdown",
      "source": [
        "# Adding new features\n",
        "I will create new sets of features according to three categories: \n",
        "* Developer's features\n",
        "* Issues features\n",
        "* Textual features"
      ]
    },
    {
      "metadata": {
        "id": "aebkzq310u1P",
        "colab_type": "text"
      },
      "cell_type": "markdown",
      "source": [
        "## Developer's features\n",
        "Developers' features depend on the dataset since they are mostly percentages (the total number of issues for the project is used). Then, I define the following functions that I will call later. "
      ]
    },
    {
      "metadata": {
        "id": "Kuk9Rnzn0u1R",
        "colab_type": "code",
        "colab": {}
      },
      "cell_type": "code",
      "source": [
        "# Reporter reputation \n",
        "\n",
        "def get_reputation(developer, dataset):\n",
        "    opened = len(dataset[dataset['fields.creator.name'] == developer])\n",
        "    opened_and_fixed = len(dataset[(dataset['fields.creator.name'] == developer) \n",
        "                            & ((dataset['fields.status.name'] == 'Done') | (dataset['fields.status.name'] == 'Closed') \n",
        "           | (dataset['fields.status.name'] == 'Resolved') | (dataset['fields.status.name'] == 'Accepted') ) \n",
        "                            & (dataset['fields.assignee.name'] == developer)])\n",
        "    return opened_and_fixed/(opened+1)   "
      ],
      "execution_count": 0,
      "outputs": []
    },
    {
      "metadata": {
        "id": "yoVRs-eb0u1b",
        "colab_type": "code",
        "colab": {}
      },
      "cell_type": "code",
      "source": [
        "def get_reputations(dataset):\n",
        "    devs = dataset['fields.creator.name'].unique()\n",
        "    devs = np.append(devs, dataset['fields.assignee.name'].unique())\n",
        "    devs = np.append(devs, dataset['fields.reporter.name'].unique())\n",
        "\n",
        "    # remove dupplicates\n",
        "    devs = np.unique(devs)\n",
        "\n",
        "    print \"Total number of devs: \", len(devs)\n",
        "\n",
        "    reputations = []\n",
        "    for d in devs:\n",
        "        reputations.append(get_reputation(d, dataset))\n",
        "\n",
        "    reputations_df = pd.DataFrame({\"developer\": devs, \"reputation\": reputations})\n",
        "    return reputations_df\n",
        "\n",
        "#reputations_df[reputations_df.reputation > 0].sort_values(['reputation'], ascending=False).head()"
      ],
      "execution_count": 0,
      "outputs": []
    },
    {
      "metadata": {
        "id": "r5zoyKwN0u1p",
        "colab_type": "code",
        "colab": {}
      },
      "cell_type": "code",
      "source": [
        "# Total developer workload\n",
        "from __future__ import division \n",
        "    \n",
        "#     \n",
        "def get_dev_workload(developer, dataset, percentual=True):\n",
        "    if percentual:\n",
        "        df = dataset[(dataset['fields.assignee.name'] == developer)]\n",
        "        return len(df)/len(dataset)\n",
        "    else:\n",
        "        df = dataset[(dataset['fields.assignee.name'] == developer)]\n",
        "        return len(df)\n",
        "\n",
        "def get_devs_workload(dataset, percentual=True):\n",
        "    ws = []\n",
        "    \n",
        "    devs = dataset['fields.creator.name'].unique()\n",
        "    devs = np.append(devs, dataset['fields.assignee.name'].unique())\n",
        "    devs = np.append(devs, dataset['fields.reporter.name'].unique())\n",
        "\n",
        "    # remove dupplicates\n",
        "    devs = np.unique(devs)\n",
        "    \n",
        "    for d in devs:\n",
        "        ws.append(get_dev_workload(d, dataset, percentual))\n",
        "    return pd.DataFrame({\"developer\":devs, \"workload\": ws})\n",
        "\n",
        "def get_workload(dataset, developer=\"\", percentual=True):\n",
        "    if developer == \"\":\n",
        "        return get_devs_workload(dataset, percentual)\n",
        "    else:\n",
        "        return get_dev_workload(developer, dataset, percentual)"
      ],
      "execution_count": 0,
      "outputs": []
    },
    {
      "metadata": {
        "id": "zk1h3b5y0u15",
        "colab_type": "code",
        "colab": {}
      },
      "cell_type": "code",
      "source": [
        "# current workload \n",
        "def get_current_workload(dataset):\n",
        "    undone_issues = dataset[((dataset['fields.status.name'] == 'Done') | (dataset['fields.status.name'] == 'Closed') \n",
        "           | (dataset['fields.status.name'] == 'Resolved') | (dataset['fields.status.name'] == 'Accepted') )]\n",
        "    grouped = undone_issues.groupby('fields.assignee.name').size().reset_index(name='workload')\n",
        "    grouped['workload'] = grouped['workload']/sum(grouped['workload'])\n",
        "    #developers = developers.merge(grouped, on='fields.assignee.name')\n",
        "    #developers.head()\n",
        "    grouped.columns = ['developer', 'current_workload']\n",
        "    return grouped"
      ],
      "execution_count": 0,
      "outputs": []
    },
    {
      "metadata": {
        "id": "wF54rO6q0u2U",
        "colab_type": "code",
        "colab": {}
      },
      "cell_type": "code",
      "source": [
        "def get_velocity(dataset):\n",
        "    velocity = dataset[['fields.assignee.name', 'storypoints']].groupby(['fields.assignee.name']).sum()\n",
        "    \n",
        "    velocity = velocity.reset_index()\n",
        "    velocity.columns = ['developer', 'velocity']\n",
        "    velocity['velocity'] = velocity['velocity'] / sum(velocity['velocity'])\n",
        "    return velocity\n",
        "    \n",
        "#velocity.sort_values(ascending=False).head()"
      ],
      "execution_count": 0,
      "outputs": []
    },
    {
      "metadata": {
        "id": "FbtUNadD0u2D",
        "colab_type": "code",
        "colab": {}
      },
      "cell_type": "code",
      "source": [
        "# Number of developer's comments\n",
        "def get_comment_number(dataset):\n",
        "    \n",
        "    ch = changelog[changelog['key'].isin(dataset['key'])]\n",
        "    comments_times = ch[ (ch['field'] == 'Comment')].groupby(['author']).size()\n",
        "\n",
        "    comments_times = comments_times.reset_index()\n",
        "    comments_times['comments'] = comments_times[0]/sum(comments_times[0]) \n",
        "\n",
        "    comments_times.columns = ['developer', 'comment_absolute', 'comments_relative']\n",
        "    #print \"number of developers with comments: \", len(comments_times)\n",
        "    return comments_times"
      ],
      "execution_count": 0,
      "outputs": []
    },
    {
      "metadata": {
        "colab_type": "code",
        "id": "NJqX0BBUSI-I",
        "colab": {}
      },
      "cell_type": "code",
      "source": [
        "# Number of developer's comments\n",
        "def get_summary_similarity(dataset):\n",
        "    \n",
        "    ch = changelog[changelog['key'].isin(dataset['key'])]\n",
        "    ch = ch[ ((ch['field'] == 'summary') | (ch['field'] == 'description' ))]\n",
        "    ch = ch[['author','fromString','from']]\n",
        "    ch = ch.groupby(['author'],as_index=False).sum()\n",
        "    ch.columns = ['developer', 'issue','from'] \n",
        "    sm = []\n",
        "    keys = []\n",
        "    for index, row in dataset.iterrows(): \n",
        "       \n",
        "    \n",
        "      ds_context = context[ (context['key'] == row['key'])]\n",
        "      ds_context = ds_context[['context']]\n",
        "      issue_summary = ch[ (ch['developer'] == row['fields.assignee.name'])]\n",
        "      if(issue_summary.size > 0): \n",
        "        issue_context=ds_context.iloc[0]['context']\n",
        "        developer_summary= issue_summary.iloc[0]['issue']\n",
        " \n",
        "        corpus = [issue_context,developer_summary]\n",
        "        vectorizer = TfidfVectorizer()\n",
        "        trsfm=vectorizer.fit_transform(corpus)\n",
        "        similarty = pd.DataFrame(trsfm.toarray(),columns=vectorizer.get_feature_names(),index=['issue_context','developer_summary'])\n",
        "        mean_similarty =issue_summary['from'] = similarty.mean(numeric_only=True).mean()\n",
        "        sm.append(mean_similarty)\n",
        "        keys.append(row['key'])\n",
        "      else:\n",
        "        sm.append(0)\n",
        "        keys.append(row['key'])\n",
        "            \n",
        "    \n",
        "    return pd.DataFrame({\"key\":keys, \"similarity\": sm})\n",
        "       "
      ],
      "execution_count": 0,
      "outputs": []
    },
    {
      "metadata": {
        "id": "Mv7Y3tFd0u2b",
        "colab_type": "text"
      },
      "cell_type": "markdown",
      "source": [
        "## Features from the issues\n",
        "The issue features do not depend on the total number of issues of the project, so they can be computed for the entire dataset."
      ]
    },
    {
      "metadata": {
        "id": "PdcPINPG0u2c",
        "colab_type": "code",
        "colab": {}
      },
      "cell_type": "code",
      "source": [
        "# Discussion time\n",
        "def get_discussiontime(dataset):\n",
        "    discussiontime = pd.to_datetime(dataset['fields.resolutiondate']).subtract(pd.to_datetime(dataset['fields.created']))\n",
        "    return discussiontime"
      ],
      "execution_count": 0,
      "outputs": []
    },
    {
      "metadata": {
        "id": "vNO9iyr70u2i",
        "colab_type": "code",
        "colab": {}
      },
      "cell_type": "code",
      "source": [
        "# Number of times the issue was reopened\n",
        "reopened_times = changelog[ (changelog['field'] == 'status') \n",
        "            & (changelog['fromString'] == 'Done') \n",
        "            & (changelog['toString'] != 'Done')].groupby(['key']).size()\n",
        "reopened_times = reopened_times.reset_index()\n",
        "reopened_times.columns = ['key', 'reopened_times']"
      ],
      "execution_count": 0,
      "outputs": []
    },
    {
      "metadata": {
        "id": "Ju0nNhI50u2v",
        "colab_type": "code",
        "colab": {}
      },
      "cell_type": "code",
      "source": [
        "# Number of times the priority was changed\n",
        "priority_times = changelog[ changelog['field'] == 'priority' ].groupby(['key']).size()\n",
        "priority_times = priority_times.reset_index()\n",
        "priority_times.columns = ['key', 'priority_times']"
      ],
      "execution_count": 0,
      "outputs": []
    },
    {
      "metadata": {
        "id": "GJC0984Y0u27",
        "colab_type": "code",
        "colab": {}
      },
      "cell_type": "code",
      "source": [
        "# Number of times the fix version was changed\n",
        "fixversion_times = changelog[ changelog['field'] == 'Fix Version' ].groupby(['key']).size()\n",
        "fixversion_times = fixversion_times.reset_index() \n",
        "fixversion_times.columns = ['key', 'fixversion_times']"
      ],
      "execution_count": 0,
      "outputs": []
    },
    {
      "metadata": {
        "id": "wZCELeJu0u2_",
        "colab_type": "code",
        "colab": {}
      },
      "cell_type": "code",
      "source": [
        "# Number of fix versions\n",
        "d = []\n",
        "for i in range(len(xdf['fields.fixVersions'])):\n",
        "    d.append({ 'key' : xdf['key'].iloc[i] , 'fix_versions' : len(pd.Series(xdf['fields.fixVersions'].iloc[i]))})\n",
        "    \n",
        "fix_versions = pd.DataFrame(d)"
      ],
      "execution_count": 0,
      "outputs": []
    },
    {
      "metadata": {
        "id": "lxPj2v1H0u3K",
        "colab_type": "code",
        "colab": {}
      },
      "cell_type": "code",
      "source": [
        "# Number of affect versions\n",
        "# at least one version is affected\n",
        "d = []\n",
        "for i in range(len(xdf['fields.versions'])):\n",
        "    d.append({ 'key' : xdf['key'].iloc[i], \n",
        "              'affect_versions' : 1 if len(pd.Series(xdf['fields.versions'].iloc[i])) == 0 else len(pd.Series(xdf['fields.versions'].iloc[i]))})\n",
        "    \n",
        "affect_versions = pd.DataFrame(d)"
      ],
      "execution_count": 0,
      "outputs": []
    },
    {
      "metadata": {
        "collapsed": true,
        "id": "0_o2j53u0u3Q",
        "colab_type": "text"
      },
      "cell_type": "markdown",
      "source": [
        "### Features from component and issue type"
      ]
    },
    {
      "metadata": {
        "id": "V6aEpkNh0u3S",
        "colab_type": "text"
      },
      "cell_type": "markdown",
      "source": [
        "#### Issue type dummies"
      ]
    },
    {
      "metadata": {
        "id": "28fAc2st0u3T",
        "colab_type": "code",
        "colab": {}
      },
      "cell_type": "code",
      "source": [
        "# issue type \n",
        "issue_type = pd.get_dummies(xdf[['key', 'fields.issuetype.name']], columns=['fields.issuetype.name'])"
      ],
      "execution_count": 0,
      "outputs": []
    },
    {
      "metadata": {
        "id": "acvw3hGG0u3Z",
        "colab_type": "text"
      },
      "cell_type": "markdown",
      "source": [
        "#### Components dummies"
      ]
    },
    {
      "metadata": {
        "id": "0Ejw9Can0u3b",
        "colab_type": "code",
        "outputId": "a5cc854c-0bfa-469a-9d66-aea38ca294e9",
        "colab": {
          "base_uri": "https://localhost:8080/",
          "height": 119
        }
      },
      "cell_type": "code",
      "source": [
        "xdf['fields.components'] = xdf['fields.components'].apply(lambda x: [v.replace('[', '').replace(']', '').strip() for v in x.split(',')])"
      ],
      "execution_count": 140,
      "outputs": [
        {
          "output_type": "stream",
          "text": [
            "/usr/local/lib/python2.7/dist-packages/ipykernel_launcher.py:1: SettingWithCopyWarning: \n",
            "A value is trying to be set on a copy of a slice from a DataFrame.\n",
            "Try using .loc[row_indexer,col_indexer] = value instead\n",
            "\n",
            "See the caveats in the documentation: http://pandas.pydata.org/pandas-docs/stable/indexing.html#indexing-view-versus-copy\n",
            "  \"\"\"Entry point for launching an IPython kernel.\n"
          ],
          "name": "stderr"
        }
      ]
    },
    {
      "metadata": {
        "id": "V2y0U-B70u3h",
        "colab_type": "code",
        "outputId": "b2596588-02a7-4334-bab6-71af24f33408",
        "colab": {
          "base_uri": "https://localhost:8080/",
          "height": 352
        }
      },
      "cell_type": "code",
      "source": [
        "#new_df.head()\n",
        "components = pd.get_dummies(xdf['fields.components'].apply(pd.Series).stack()).sum(level=0)\n",
        "components['key'] = xdf['key']\n",
        "components.head()"
      ],
      "execution_count": 141,
      "outputs": [
        {
          "output_type": "execute_result",
          "data": {
            "text/html": [
              "<div>\n",
              "<style scoped>\n",
              "    .dataframe tbody tr th:only-of-type {\n",
              "        vertical-align: middle;\n",
              "    }\n",
              "\n",
              "    .dataframe tbody tr th {\n",
              "        vertical-align: top;\n",
              "    }\n",
              "\n",
              "    .dataframe thead th {\n",
              "        text-align: right;\n",
              "    }\n",
              "</style>\n",
              "<table border=\"1\" class=\"dataframe\">\n",
              "  <thead>\n",
              "    <tr style=\"text-align: right;\">\n",
              "      <th></th>\n",
              "      <th>360</th>\n",
              "      <th>Acceptance Testing</th>\n",
              "      <th>Acegi</th>\n",
              "      <th>Admin - Event Viewer</th>\n",
              "      <th>Admin - Extensions</th>\n",
              "      <th>Admin - File Manager</th>\n",
              "      <th>Admin - Google Analytics</th>\n",
              "      <th>Admin - Languages</th>\n",
              "      <th>Admin - Newsletters</th>\n",
              "      <th>Admin - Pages</th>\n",
              "      <th>...</th>\n",
              "      <th>security</th>\n",
              "      <th>slave</th>\n",
              "      <th>statistics</th>\n",
              "      <th>stout</th>\n",
              "      <th>technical debt</th>\n",
              "      <th>test</th>\n",
              "      <th>testing</th>\n",
              "      <th>tests</th>\n",
              "      <th>webui</th>\n",
              "      <th>key</th>\n",
              "    </tr>\n",
              "  </thead>\n",
              "  <tbody>\n",
              "    <tr>\n",
              "      <th>37</th>\n",
              "      <td>0</td>\n",
              "      <td>0</td>\n",
              "      <td>0</td>\n",
              "      <td>0</td>\n",
              "      <td>0</td>\n",
              "      <td>0</td>\n",
              "      <td>0</td>\n",
              "      <td>0</td>\n",
              "      <td>0</td>\n",
              "      <td>0</td>\n",
              "      <td>...</td>\n",
              "      <td>0</td>\n",
              "      <td>0</td>\n",
              "      <td>0</td>\n",
              "      <td>0</td>\n",
              "      <td>0</td>\n",
              "      <td>0</td>\n",
              "      <td>0</td>\n",
              "      <td>0</td>\n",
              "      <td>0</td>\n",
              "      <td>XD-3716</td>\n",
              "    </tr>\n",
              "    <tr>\n",
              "      <th>44</th>\n",
              "      <td>0</td>\n",
              "      <td>0</td>\n",
              "      <td>0</td>\n",
              "      <td>0</td>\n",
              "      <td>0</td>\n",
              "      <td>0</td>\n",
              "      <td>0</td>\n",
              "      <td>0</td>\n",
              "      <td>0</td>\n",
              "      <td>0</td>\n",
              "      <td>...</td>\n",
              "      <td>0</td>\n",
              "      <td>0</td>\n",
              "      <td>0</td>\n",
              "      <td>0</td>\n",
              "      <td>0</td>\n",
              "      <td>0</td>\n",
              "      <td>0</td>\n",
              "      <td>0</td>\n",
              "      <td>0</td>\n",
              "      <td>XD-3709</td>\n",
              "    </tr>\n",
              "    <tr>\n",
              "      <th>62</th>\n",
              "      <td>0</td>\n",
              "      <td>0</td>\n",
              "      <td>0</td>\n",
              "      <td>0</td>\n",
              "      <td>0</td>\n",
              "      <td>0</td>\n",
              "      <td>0</td>\n",
              "      <td>0</td>\n",
              "      <td>0</td>\n",
              "      <td>0</td>\n",
              "      <td>...</td>\n",
              "      <td>0</td>\n",
              "      <td>0</td>\n",
              "      <td>0</td>\n",
              "      <td>0</td>\n",
              "      <td>0</td>\n",
              "      <td>0</td>\n",
              "      <td>0</td>\n",
              "      <td>0</td>\n",
              "      <td>0</td>\n",
              "      <td>XD-3691</td>\n",
              "    </tr>\n",
              "    <tr>\n",
              "      <th>63</th>\n",
              "      <td>0</td>\n",
              "      <td>0</td>\n",
              "      <td>0</td>\n",
              "      <td>0</td>\n",
              "      <td>0</td>\n",
              "      <td>0</td>\n",
              "      <td>0</td>\n",
              "      <td>0</td>\n",
              "      <td>0</td>\n",
              "      <td>0</td>\n",
              "      <td>...</td>\n",
              "      <td>0</td>\n",
              "      <td>0</td>\n",
              "      <td>0</td>\n",
              "      <td>0</td>\n",
              "      <td>0</td>\n",
              "      <td>0</td>\n",
              "      <td>0</td>\n",
              "      <td>0</td>\n",
              "      <td>0</td>\n",
              "      <td>XD-3690</td>\n",
              "    </tr>\n",
              "    <tr>\n",
              "      <th>68</th>\n",
              "      <td>0</td>\n",
              "      <td>0</td>\n",
              "      <td>0</td>\n",
              "      <td>0</td>\n",
              "      <td>0</td>\n",
              "      <td>0</td>\n",
              "      <td>0</td>\n",
              "      <td>0</td>\n",
              "      <td>0</td>\n",
              "      <td>0</td>\n",
              "      <td>...</td>\n",
              "      <td>0</td>\n",
              "      <td>0</td>\n",
              "      <td>0</td>\n",
              "      <td>0</td>\n",
              "      <td>0</td>\n",
              "      <td>0</td>\n",
              "      <td>0</td>\n",
              "      <td>0</td>\n",
              "      <td>0</td>\n",
              "      <td>XD-3685</td>\n",
              "    </tr>\n",
              "  </tbody>\n",
              "</table>\n",
              "<p>5 rows × 335 columns</p>\n",
              "</div>"
            ],
            "text/plain": [
              "    360  Acceptance Testing  Acegi  Admin - Event Viewer  Admin - Extensions  \\\n",
              "37    0                   0      0                     0                   0   \n",
              "44    0                   0      0                     0                   0   \n",
              "62    0                   0      0                     0                   0   \n",
              "63    0                   0      0                     0                   0   \n",
              "68    0                   0      0                     0                   0   \n",
              "\n",
              "    Admin - File Manager  Admin - Google Analytics  Admin - Languages  \\\n",
              "37                     0                         0                  0   \n",
              "44                     0                         0                  0   \n",
              "62                     0                         0                  0   \n",
              "63                     0                         0                  0   \n",
              "68                     0                         0                  0   \n",
              "\n",
              "    Admin - Newsletters  Admin - Pages   ...     security  slave  statistics  \\\n",
              "37                    0              0   ...            0      0           0   \n",
              "44                    0              0   ...            0      0           0   \n",
              "62                    0              0   ...            0      0           0   \n",
              "63                    0              0   ...            0      0           0   \n",
              "68                    0              0   ...            0      0           0   \n",
              "\n",
              "    stout  technical debt  test  testing  tests  webui      key  \n",
              "37      0               0     0        0      0      0  XD-3716  \n",
              "44      0               0     0        0      0      0  XD-3709  \n",
              "62      0               0     0        0      0      0  XD-3691  \n",
              "63      0               0     0        0      0      0  XD-3690  \n",
              "68      0               0     0        0      0      0  XD-3685  \n",
              "\n",
              "[5 rows x 335 columns]"
            ]
          },
          "metadata": {
            "tags": []
          },
          "execution_count": 141
        }
      ]
    },
    {
      "metadata": {
        "id": "eyD3kOka0u3n",
        "colab_type": "code",
        "outputId": "ace58935-aedf-49ed-c067-8a36d88c2ce8",
        "colab": {
          "base_uri": "https://localhost:8080/",
          "height": 51
        }
      },
      "cell_type": "code",
      "source": [
        "# components + issue_type\n",
        "print len(issue_type)\n",
        "print len(components)\n",
        "\n",
        "components_issuetype = pd.merge(issue_type, components, on='key',  how='left')"
      ],
      "execution_count": 142,
      "outputs": [
        {
          "output_type": "stream",
          "text": [
            "6757\n",
            "6757\n"
          ],
          "name": "stdout"
        }
      ]
    },
    {
      "metadata": {
        "id": "e1YacPiH0u3t",
        "colab_type": "text"
      },
      "cell_type": "markdown",
      "source": [
        "### All the features together"
      ]
    },
    {
      "metadata": {
        "id": "QkZ3NcTG0u3v",
        "colab_type": "code",
        "colab": {}
      },
      "cell_type": "code",
      "source": [
        "# Issue-related features\n",
        "usfeatures = pd.DataFrame(xdf['key'])\n",
        "\n",
        "usfeatures['discussion_time'] = pd.to_datetime(xdf['fields.resolutiondate']).subtract(pd.to_datetime(xdf['fields.created']))\n",
        "usfeatures = pd.merge(usfeatures, reopened_times, on='key', how='left')\n",
        "usfeatures = pd.merge(usfeatures, priority_times, on='key', how='left')\n",
        "usfeatures = pd.merge(usfeatures, fixversion_times, on='key', how='left')\n",
        "usfeatures = pd.merge(usfeatures, fix_versions, on='key', how='left')\n",
        "usfeatures = pd.merge(usfeatures, affect_versions, on='key', how='left')\n",
        "#usfeatures = pd.merge(usfeatures, context[['key', 'context_characters', 'context_code_characters']], on='key', how='left')\n",
        "usfeatures = usfeatures.fillna(0)\n",
        "usfeatures['discussion_time'] = usfeatures['discussion_time'].dt.total_seconds()"
      ],
      "execution_count": 0,
      "outputs": []
    },
    {
      "metadata": {
        "collapsed": true,
        "id": "vIysNiGj0u3z",
        "colab_type": "text"
      },
      "cell_type": "markdown",
      "source": [
        "### Full issue features ( issue + components + issuetype )"
      ]
    },
    {
      "metadata": {
        "id": "3k67NzlU0u3z",
        "colab_type": "code",
        "outputId": "960fde0d-0df6-45cf-c5ba-c4a6c3fedc38",
        "colab": {
          "base_uri": "https://localhost:8080/",
          "height": 51
        }
      },
      "cell_type": "code",
      "source": [
        "print len(usfeatures)\n",
        "print len(components_issuetype)\n",
        "fullissuefeatures = pd.merge(usfeatures, components_issuetype, on='key', how='left')"
      ],
      "execution_count": 144,
      "outputs": [
        {
          "output_type": "stream",
          "text": [
            "6757\n",
            "6757\n"
          ],
          "name": "stdout"
        }
      ]
    },
    {
      "metadata": {
        "id": "xkSwfF1X0u33",
        "colab_type": "text"
      },
      "cell_type": "markdown",
      "source": [
        "## Text features\n",
        "I create a new variable context to store only the textual info."
      ]
    },
    {
      "metadata": {
        "id": "DWbA0OS80u35",
        "colab_type": "code",
        "outputId": "c924d491-fe23-47df-b3f9-c7d54880f63e",
        "colab": {
          "base_uri": "https://localhost:8080/",
          "height": 221
        }
      },
      "cell_type": "code",
      "source": [
        "# Summary and description merged into one text (Porru 2014)\n",
        "\n",
        "context = xdf[['key', 'fields.summary', 'fields.description','fields.assignee.name']].copy()\n",
        "context[\"context\"] = context[\"fields.summary\"] + \". \" + context[\"fields.description\"]\n",
        "\n",
        "print len(context)\n",
        "\n",
        "context.head()"
      ],
      "execution_count": 145,
      "outputs": [
        {
          "output_type": "stream",
          "text": [
            "6757\n"
          ],
          "name": "stdout"
        },
        {
          "output_type": "execute_result",
          "data": {
            "text/html": [
              "<div>\n",
              "<style scoped>\n",
              "    .dataframe tbody tr th:only-of-type {\n",
              "        vertical-align: middle;\n",
              "    }\n",
              "\n",
              "    .dataframe tbody tr th {\n",
              "        vertical-align: top;\n",
              "    }\n",
              "\n",
              "    .dataframe thead th {\n",
              "        text-align: right;\n",
              "    }\n",
              "</style>\n",
              "<table border=\"1\" class=\"dataframe\">\n",
              "  <thead>\n",
              "    <tr style=\"text-align: right;\">\n",
              "      <th></th>\n",
              "      <th>key</th>\n",
              "      <th>fields.summary</th>\n",
              "      <th>fields.description</th>\n",
              "      <th>fields.assignee.name</th>\n",
              "      <th>context</th>\n",
              "    </tr>\n",
              "  </thead>\n",
              "  <tbody>\n",
              "    <tr>\n",
              "      <th>37</th>\n",
              "      <td>XD-3716</td>\n",
              "      <td>Support Configuring the RabbitMessageBus Messa...</td>\n",
              "      <td>http://stackoverflow.com/questions/34053997/pa...</td>\n",
              "      <td>grussell</td>\n",
              "      <td>Support Configuring the RabbitMessageBus Messa...</td>\n",
              "    </tr>\n",
              "    <tr>\n",
              "      <th>44</th>\n",
              "      <td>XD-3709</td>\n",
              "      <td>Duplicate MBean Names With router Sink</td>\n",
              "      <td>For some reason, the Integration {{MBeanExport...</td>\n",
              "      <td>grussell</td>\n",
              "      <td>Duplicate MBean Names With router Sink. For so...</td>\n",
              "    </tr>\n",
              "    <tr>\n",
              "      <th>62</th>\n",
              "      <td>XD-3691</td>\n",
              "      <td>Ensure Job definitions are escaped in UI</td>\n",
              "      <td>If using the definition &lt;aaa || bbb&gt; where the...</td>\n",
              "      <td>hillert</td>\n",
              "      <td>Ensure Job definitions are escaped in UI. If u...</td>\n",
              "    </tr>\n",
              "    <tr>\n",
              "      <th>63</th>\n",
              "      <td>XD-3690</td>\n",
              "      <td>Improve \"Server Configuration - Database Confi...</td>\n",
              "      <td>Make it more clear what drivers need to be cop...</td>\n",
              "      <td>thomas.risberg</td>\n",
              "      <td>Improve \"Server Configuration - Database Confi...</td>\n",
              "    </tr>\n",
              "    <tr>\n",
              "      <th>68</th>\n",
              "      <td>XD-3685</td>\n",
              "      <td>Job Definitions page fails to display definiti...</td>\n",
              "      <td>In this scenario we created 30 jobs that can b...</td>\n",
              "      <td>hillert</td>\n",
              "      <td>Job Definitions page fails to display definiti...</td>\n",
              "    </tr>\n",
              "  </tbody>\n",
              "</table>\n",
              "</div>"
            ],
            "text/plain": [
              "        key                                     fields.summary  \\\n",
              "37  XD-3716  Support Configuring the RabbitMessageBus Messa...   \n",
              "44  XD-3709             Duplicate MBean Names With router Sink   \n",
              "62  XD-3691           Ensure Job definitions are escaped in UI   \n",
              "63  XD-3690  Improve \"Server Configuration - Database Confi...   \n",
              "68  XD-3685  Job Definitions page fails to display definiti...   \n",
              "\n",
              "                                   fields.description fields.assignee.name  \\\n",
              "37  http://stackoverflow.com/questions/34053997/pa...             grussell   \n",
              "44  For some reason, the Integration {{MBeanExport...             grussell   \n",
              "62  If using the definition <aaa || bbb> where the...              hillert   \n",
              "63  Make it more clear what drivers need to be cop...       thomas.risberg   \n",
              "68  In this scenario we created 30 jobs that can b...              hillert   \n",
              "\n",
              "                                              context  \n",
              "37  Support Configuring the RabbitMessageBus Messa...  \n",
              "44  Duplicate MBean Names With router Sink. For so...  \n",
              "62  Ensure Job definitions are escaped in UI. If u...  \n",
              "63  Improve \"Server Configuration - Database Confi...  \n",
              "68  Job Definitions page fails to display definiti...  "
            ]
          },
          "metadata": {
            "tags": []
          },
          "execution_count": 145
        }
      ]
    },
    {
      "metadata": {
        "id": "pda2mKwx0u3-",
        "colab_type": "code",
        "colab": {}
      },
      "cell_type": "code",
      "source": [
        "# Separate natural language and the code in context\n",
        "import re\n",
        "\n",
        "for ix, line in context.iterrows():\n",
        "    m = re.search('{code}(.*){code}', line.context, flags=re.DOTALL)\n",
        "    if m:\n",
        "        context.loc[ix, 'context_code'] = line.context[m.start(0):m.end(0)]\n",
        "        context.loc[ix, 'context'] = line.context[:m.start(0)] + line.context[m.end(0):]\n",
        "    else:\n",
        "        context.loc[ix, 'context_code'] = \"\"\n",
        "        \n",
        "    context.loc[ix, 'context'] = re.sub(r\"\\s+\", \" \", context.loc[ix, 'context'])\n",
        "    context.loc[ix, 'context_code'] = re.sub(r\"\\s+\", \" \", context.loc[ix, 'context_code'])"
      ],
      "execution_count": 0,
      "outputs": []
    },
    {
      "metadata": {
        "id": "E2Mrb1zj0u4D",
        "colab_type": "code",
        "colab": {}
      },
      "cell_type": "code",
      "source": [
        "# Number of characters in the code\n",
        "context['context_code_characters'] = context['context_code'].str.len()\n",
        "\n",
        "# Number of characters in context\n",
        "context['context_characters'] = context['context'].str.len()"
      ],
      "execution_count": 0,
      "outputs": []
    },
    {
      "metadata": {
        "collapsed": true,
        "id": "3e_kyJnj0u4H",
        "colab_type": "text"
      },
      "cell_type": "markdown",
      "source": [
        "## Metrics"
      ]
    },
    {
      "metadata": {
        "id": "daPEdwPl0u4I",
        "colab_type": "code",
        "colab": {}
      },
      "cell_type": "code",
      "source": [
        "# MMRE : difference between the actual effort and the estimated effort divided by the actual effort\n",
        "import numpy as np\n",
        "from numpy import inf\n",
        "\n",
        "def mmre(labels, predictions):\n",
        "    assert len(labels) == len(predictions)\n",
        "    \n",
        "    mre = np.abs(labels - predictions) / labels\n",
        "    mre[mre == inf] = 0\n",
        "    return np.sum(mre) / len(labels)"
      ],
      "execution_count": 0,
      "outputs": []
    },
    {
      "metadata": {
        "id": "s_hCBwDP0u4R",
        "colab_type": "text"
      },
      "cell_type": "markdown",
      "source": [
        "## Cross-validation SVM\n",
        "This is just an auxiliar function to run SVM for the different projects"
      ]
    },
    {
      "metadata": {
        "id": "x3DYyxXB0u4a",
        "colab_type": "code",
        "colab": {}
      },
      "cell_type": "code",
      "source": [
        "# Obtaining predictions by cross-validation\n",
        "\n",
        "from sklearn.model_selection import cross_val_predict, cross_val_score\n",
        "from sklearn import metrics\n",
        "\n",
        "from sklearn.feature_selection import SelectFromModel\n",
        "from sklearn.pipeline import Pipeline\n",
        "from sklearn import svm\n",
        "from sklearn.svm import LinearSVC \n",
        "from sklearn.model_selection import cross_val_predict\n",
        "from sklearn import metrics\n",
        "\n",
        "def SVM(X, Y, comment, results):\n",
        "    C = 1.0  # SVM regularization parameter\n",
        "    clf = Pipeline([\n",
        "      ('feature_selection', SelectFromModel(LinearSVC())),\n",
        "      ('classification', LinearSVC())\n",
        "    ])\n",
        "    scores = cross_val_score(clf, X, Y, cv=10)\n",
        "\n",
        "    predicted = cross_val_predict(clf, X, Y, cv=10)\n",
        "    \n",
        "    diff = np.abs(Y.astype(float) - predicted.astype(float))\n",
        "    mre = diff / Y.astype(float)\n",
        "    \n",
        "    both = pd.DataFrame({'Actual': Y, 'Predicted': predicted, 'diff': diff, 'mre': mre })\n",
        "    \n",
        "    result = {\n",
        "        'Classifier': comment, \n",
        "        'Rows': X.shape[0], \n",
        "        'Features': X.shape[1],\n",
        "        'Accuracy': scores.mean(),\n",
        "        'Accuracy SD': scores.std()*2,\n",
        "        'MAE' : metrics.mean_absolute_error(Y.astype(float), predicted.astype(float)),\n",
        "        'MMRE': mmre(Y.astype(float), predicted.astype(float)),\n",
        "    }\n",
        "    \n",
        "    results = results.append(result, ignore_index=True)\n",
        "    return results"
      ],
      "execution_count": 0,
      "outputs": []
    },
    {
      "metadata": {
        "id": "w6T1RxMSXKdg",
        "colab_type": "code",
        "colab": {}
      },
      "cell_type": "code",
      "source": [
        ""
      ],
      "execution_count": 0,
      "outputs": []
    },
    {
      "metadata": {
        "colab_type": "code",
        "outputId": "ed93db40-7324-430a-cee8-49e0d4d66061",
        "id": "5DZ0q8TfUq2z",
        "colab": {
          "base_uri": "https://localhost:8080/",
          "height": 1258
        }
      },
      "cell_type": "code",
      "source": [
        "from sklearn.feature_extraction.text import TfidfVectorizer\n",
        "import scipy.sparse as sp \n",
        "\n",
        "fullresults = pd.DataFrame()\n",
        "\n",
        "for p in xdf['project'].unique():\n",
        "    results = pd.DataFrame()\n",
        "    \n",
        "    # Set the project\n",
        "    df = xdf[xdf['project'] == p]\n",
        "    \n",
        "    \n",
        "    if (p != 'mule'):\n",
        "        continue\n",
        "    # Cross validation doesn't work if there are few instances\n",
        "    if (len(df) < 14):\n",
        "        continue\n",
        "    print \"Project: \", p \n",
        "    print \"Getting comments...\"\n",
        "    comments = get_summary_similarity(df) \n",
        "    #if (hasattr(comments, 'columns') & comments.columns.size > 0):\n",
        "         #print comments\n",
        "    print comments\n",
        "    \n",
        "    print \"Done.\"\n",
        "    print"
      ],
      "execution_count": 150,
      "outputs": [
        {
          "output_type": "stream",
          "text": [
            "Project:  mule\n",
            "Getting comments...\n"
          ],
          "name": "stdout"
        },
        {
          "output_type": "stream",
          "text": [
            "/usr/local/lib/python2.7/dist-packages/ipykernel_launcher.py:24: SettingWithCopyWarning: \n",
            "A value is trying to be set on a copy of a slice from a DataFrame.\n",
            "Try using .loc[row_indexer,col_indexer] = value instead\n",
            "\n",
            "See the caveats in the documentation: http://pandas.pydata.org/pandas-docs/stable/indexing.html#indexing-view-versus-copy\n"
          ],
          "name": "stderr"
        },
        {
          "output_type": "stream",
          "text": [
            "           key  similarity\n",
            "0    MULE-9527    0.023852\n",
            "1    MULE-9443    0.025674\n",
            "2    MULE-9393    0.080060\n",
            "3    MULE-9371    0.086741\n",
            "4    MULE-9164    0.025894\n",
            "5    MULE-9115    0.081562\n",
            "6    MULE-9113    0.081562\n",
            "7    MULE-9112    0.081562\n",
            "8    MULE-9060    0.029526\n",
            "9    MULE-9038    0.021173\n",
            "10   MULE-8939    0.028708\n",
            "11   MULE-8693    0.083863\n",
            "12   MULE-8582    0.048196\n",
            "13   MULE-8533    0.047628\n",
            "14   MULE-8518    0.060576\n",
            "15   MULE-8497    0.083502\n",
            "16   MULE-8482    0.072119\n",
            "17   MULE-8481    0.068317\n",
            "18   MULE-8435    0.026441\n",
            "19   MULE-8301    0.023067\n",
            "20   MULE-8291    0.083603\n",
            "21   MULE-8290    0.081873\n",
            "22   MULE-8273    0.083593\n",
            "23   MULE-8248    0.071960\n",
            "24   MULE-8220    0.025202\n",
            "25   MULE-8199    0.029706\n",
            "26   MULE-8177    0.072358\n",
            "27   MULE-8173    0.044420\n",
            "28   MULE-8156    0.087078\n",
            "29   MULE-8142    0.071216\n",
            "..         ...         ...\n",
            "80   MULE-7291    0.080326\n",
            "81   MULE-7289    0.084963\n",
            "82   MULE-7288    0.085145\n",
            "83   MULE-7280    0.070686\n",
            "84   MULE-7261    0.086555\n",
            "85   MULE-7255    0.028175\n",
            "86   MULE-7165    0.058276\n",
            "87   MULE-7162    0.087976\n",
            "88   MULE-7145    0.073277\n",
            "89   MULE-7142    0.075021\n",
            "90   MULE-7140    0.070676\n",
            "91   MULE-7098    0.085330\n",
            "92   MULE-7084    0.024078\n",
            "93   MULE-7057    0.072250\n",
            "94   MULE-7052    0.087876\n",
            "95   MULE-7022    0.022290\n",
            "96   MULE-7001    0.118394\n",
            "97   MULE-6986    0.027625\n",
            "98   MULE-6965    0.054884\n",
            "99   MULE-6894    0.082851\n",
            "100  MULE-6861    0.032498\n",
            "101  MULE-6846    0.080185\n",
            "102  MULE-6844    0.025741\n",
            "103  MULE-6789    0.075745\n",
            "104  MULE-6759    0.061000\n",
            "105  MULE-6718    0.066930\n",
            "106  MULE-6673    0.095238\n",
            "107  MULE-6647    0.056637\n",
            "108  MULE-6604    0.088552\n",
            "109  MULE-6145    0.078819\n",
            "\n",
            "[110 rows x 2 columns]\n",
            "Done.\n",
            "\n"
          ],
          "name": "stdout"
        }
      ]
    },
    {
      "metadata": {
        "id": "OXwAUZnd0u4h",
        "colab_type": "text"
      },
      "cell_type": "markdown",
      "source": [
        "# Run SVM for all the projects"
      ]
    },
    {
      "metadata": {
        "id": "qukS7_Im0u4o",
        "colab_type": "code",
        "outputId": "eb53a2b2-dffb-4be2-b365-b8b8c102e224",
        "colab": {
          "base_uri": "https://localhost:8080/",
          "height": 1887
        }
      },
      "cell_type": "code",
      "source": [
        "from sklearn.feature_extraction.text import TfidfVectorizer\n",
        "import scipy.sparse as sp \n",
        "\n",
        "fullresults = pd.DataFrame()\n",
        "\n",
        "for p in xdf['project'].unique():\n",
        "    results = pd.DataFrame()\n",
        "    \n",
        "    # Set the project\n",
        "    df = xdf[xdf['project'] == p]\n",
        "    \n",
        "    if (p == 'timob'):\n",
        "      continue\n",
        "    \n",
        "    \n",
        "    # Cross validation doesn't work if there are few instances\n",
        "    if (len(df) < 14):\n",
        "        continue\n",
        "    print \"Project: \", p\n",
        "    \n",
        "    # Compute the dev features\n",
        "    print \"Getting reputations...\"\n",
        "    reps = get_reputations(df)\n",
        "    print \"Getting workload...\"\n",
        "    workload_df = get_workload(df)\n",
        "    print \"Getting current workload...\"\n",
        "    current_workload = get_current_workload(df)\n",
        "    print \"Getting comments...\"\n",
        "    comments = get_comment_number(df)\n",
        "    print \"Getting velocity...\"\n",
        "    velocity = get_velocity(df)\n",
        "    \n",
        "    # Put together all the dev features\n",
        "    devfeatures = pd.merge(reps, workload_df, on='developer', how='left')\n",
        "    devfeatures = pd.merge(devfeatures, current_workload, on='developer', how='left')\n",
        "    devfeatures = pd.merge(devfeatures, comments[['developer', 'comments_relative']], on='developer', how='left')\n",
        "    devfeatures = pd.merge(devfeatures, velocity, on='developer', how='left')\n",
        "\n",
        "    devfeatures = devfeatures.fillna(0)\n",
        "    \n",
        "    print \"Getting text features...\"\n",
        "    \n",
        "    ctx = context[context['key'].isin(df['key'])]\n",
        "    \n",
        "    print \"ctx size\", len(ctx)\n",
        "    \n",
        "    v = TfidfVectorizer(ngram_range=(1, 2), analyzer='word', min_df=.0025, max_df=.1, stop_words='english')\n",
        "    x = v.fit_transform(ctx['context'])\n",
        "\n",
        "    if ( np.all(ctx['context_code']<>'') ):\n",
        "        v2 = TfidfVectorizer(ngram_range=(1, 2), analyzer='word', min_df=.0025, max_df=.1, stop_words='english')\n",
        "        y = v2.fit_transform(ctx['context_code'])\n",
        "        textfeatures = sp.hstack((x, y))\n",
        "    else:\n",
        "        textfeatures = x\n",
        "    \n",
        "    similarity = get_summary_similarity(df)\n",
        "    # textfeatures = pd.merge(similarity, textfeatures, on='key', how='left')\n",
        "    #textfeatures = sp.hstack((similarity.drop(['key'], axis=1) ,textfeatures))\n",
        "        \n",
        "    print \"Text features: \", textfeatures.shape\n",
        "    \n",
        "    print \"Getting issue features...\"\n",
        "    \n",
        "    # link btw key and developer\n",
        "    usdev = df[['key', 'fields.assignee.name']]\n",
        "    usdev.columns = ['key', 'developer']\n",
        "    \n",
        "    us_dev = pd.merge(usdev, devfeatures, on='developer', how='left')\n",
        "    \n",
        "    issue_features = fullissuefeatures[fullissuefeatures['key'].isin(df['key'])]\n",
        "    \n",
        "    dev_issue_features = pd.merge(us_dev, fullissuefeatures, on='key', how='left')\n",
        "    dev_issue_features = dev_issue_features.fillna(0)\n",
        "    \n",
        "    text_dev_issue_features = sp.hstack((dev_issue_features.drop(['key', 'developer'], axis=1), textfeatures))\n",
        "    print \"Dev+text+issues features: \", text_dev_issue_features.shape\n",
        "\n",
        "    # Issue + text features\n",
        "    text_issue_features = sp.hstack((issue_features.drop(['key'], axis=1), textfeatures))\n",
        "    \n",
        "    # dev + text features\n",
        "    text_dev_features = sp.hstack((us_dev.drop(['key', 'developer'], axis=1), textfeatures))\n",
        "    \n",
        "    print \"Training SVMs...\"\n",
        "\n",
        "    Y = df['storypoints'].astype(str)\n",
        "\n",
        "    results = SVM(text_dev_issue_features, Y, \"Issue+Dev+Text\", results)\n",
        "    results = SVM(text_dev_features, Y, \"Text+Dev\", results)\n",
        "    results = SVM(issue_features.drop(['key'], axis=1), Y, \"Issue\", results)\n",
        "    results = SVM(textfeatures, Y, \"Text\", results)\n",
        "    results = SVM(us_dev.drop(['key', 'developer'], axis=1), Y, \"Dev\", results)\n",
        "    results = SVM(dev_issue_features.drop(['key','developer'], axis=1), Y, \"Dev+Issue\", results)\n",
        "    results = SVM(text_issue_features, Y, \"Text+Issue\", results)\n",
        "    results = SVM(similarity.drop(['key'], axis=1), Y, \"Similarity\", results)\n",
        "    \n",
        "    results['project'] = p\n",
        "    fullresults = fullresults.append(results, ignore_index=True)\n",
        "    \n",
        "    print \"Done.\"\n",
        "    print"
      ],
      "execution_count": 171,
      "outputs": [
        {
          "output_type": "stream",
          "text": [
            "Project:  xd\n",
            "Getting reputations...\n",
            "Total number of devs:  63\n",
            "Getting workload...\n",
            "Getting current workload...\n",
            "Getting comments...\n",
            "Getting velocity...\n",
            "Getting text features...\n",
            "ctx size 587\n",
            "Text features:  (587, 4964)\n",
            "Getting issue features...\n",
            "Dev+text+issues features:  (587, 5320)\n",
            "Training SVMs...\n",
            "Done.\n",
            "\n",
            "Project:  dnn\n",
            "Getting reputations...\n",
            "Total number of devs:  114\n",
            "Getting workload...\n",
            "Getting current workload...\n",
            "Getting comments...\n",
            "Getting velocity...\n",
            "Getting text features...\n",
            "ctx size 586\n",
            "Text features:  (586, 5604)\n",
            "Getting issue features...\n",
            "Dev+text+issues features:  (586, 5960)\n",
            "Training SVMs...\n",
            "Done.\n",
            "\n",
            "Project:  apstud\n",
            "Getting reputations...\n",
            "Total number of devs:  116\n",
            "Getting workload...\n",
            "Getting current workload...\n",
            "Getting comments...\n",
            "Getting velocity...\n",
            "Getting text features...\n",
            "ctx size 386\n"
          ],
          "name": "stdout"
        },
        {
          "output_type": "stream",
          "text": [
            "/usr/local/lib/python2.7/dist-packages/ipykernel_launcher.py:24: SettingWithCopyWarning: \n",
            "A value is trying to be set on a copy of a slice from a DataFrame.\n",
            "Try using .loc[row_indexer,col_indexer] = value instead\n",
            "\n",
            "See the caveats in the documentation: http://pandas.pydata.org/pandas-docs/stable/indexing.html#indexing-view-versus-copy\n"
          ],
          "name": "stderr"
        },
        {
          "output_type": "stream",
          "text": [
            "Text features:  (386, 18160)\n",
            "Getting issue features...\n",
            "Dev+text+issues features:  (386, 18516)\n",
            "Training SVMs...\n",
            "Done.\n",
            "\n",
            "Project:  mesos\n",
            "Getting reputations...\n",
            "Total number of devs:  87\n",
            "Getting workload...\n",
            "Getting current workload...\n",
            "Getting comments...\n",
            "Getting velocity...\n",
            "Getting text features...\n",
            "ctx size 555\n",
            "Text features:  (555, 5243)\n",
            "Getting issue features...\n",
            "Dev+text+issues features:  (555, 5599)\n",
            "Training SVMs...\n",
            "Done.\n",
            "\n",
            "Project:  mule\n",
            "Getting reputations...\n",
            "Total number of devs:  92\n",
            "Getting workload...\n",
            "Getting current workload...\n",
            "Getting comments...\n",
            "Getting velocity...\n",
            "Getting text features...\n",
            "ctx size 772\n",
            "Text features:  (772, 4341)\n",
            "Getting issue features...\n",
            "Dev+text+issues features:  (772, 4697)\n",
            "Training SVMs...\n",
            "Done.\n",
            "\n",
            "Project:  nexus\n",
            "Getting reputations...\n",
            "Total number of devs:  62\n",
            "Getting workload...\n",
            "Getting current workload...\n",
            "Getting comments...\n",
            "Getting velocity...\n",
            "Getting text features...\n",
            "ctx size 539\n",
            "Text features:  (539, 7853)\n",
            "Getting issue features...\n",
            "Dev+text+issues features:  (539, 8209)\n",
            "Training SVMs...\n",
            "Done.\n",
            "\n",
            "Project:  tistud\n",
            "Getting reputations...\n",
            "Total number of devs:  163\n",
            "Getting workload...\n",
            "Getting current workload...\n",
            "Getting comments...\n",
            "Getting velocity...\n",
            "Getting text features...\n",
            "ctx size 2020\n",
            "Text features:  (2020, 2662)\n",
            "Getting issue features...\n",
            "Dev+text+issues features:  (2020, 3018)\n",
            "Training SVMs...\n",
            "Done.\n",
            "\n"
          ],
          "name": "stdout"
        }
      ]
    },
    {
      "metadata": {
        "id": "tkg2YwbEUp77",
        "colab_type": "code",
        "colab": {}
      },
      "cell_type": "code",
      "source": [
        ""
      ],
      "execution_count": 0,
      "outputs": []
    },
    {
      "metadata": {
        "id": "CxYku8_UXHvO",
        "colab_type": "code",
        "colab": {}
      },
      "cell_type": "code",
      "source": [
        ""
      ],
      "execution_count": 0,
      "outputs": []
    },
    {
      "metadata": {
        "id": "IqN2J1U50u4u",
        "colab_type": "text"
      },
      "cell_type": "markdown",
      "source": [
        "# Results"
      ]
    },
    {
      "metadata": {
        "id": "Yxg7rrdN0u4x",
        "colab_type": "code",
        "outputId": "49bc0404-c569-4aa0-b51d-c0ad43163ad8",
        "colab": {
          "base_uri": "https://localhost:8080/",
          "height": 359
        }
      },
      "cell_type": "code",
      "source": [
        "fr = fullresults[(fullresults['Classifier'] == 'Dev') | (fullresults['Classifier'] == 'Text') | (fullresults['Classifier'] == 'Text+Dev')  |  (fullresults['Classifier'] == 'Similarity')  ]\n",
        "rrr = fr.pivot( index='project', columns='Classifier')[['Accuracy', 'MMRE', 'MAE']]\n",
        "rrr.loc['Average']= rrr.mean()\n",
        "\n",
        "rrr.round(3)"
      ],
      "execution_count": 172,
      "outputs": [
        {
          "output_type": "execute_result",
          "data": {
            "text/html": [
              "<div>\n",
              "<style scoped>\n",
              "    .dataframe tbody tr th:only-of-type {\n",
              "        vertical-align: middle;\n",
              "    }\n",
              "\n",
              "    .dataframe tbody tr th {\n",
              "        vertical-align: top;\n",
              "    }\n",
              "\n",
              "    .dataframe thead tr th {\n",
              "        text-align: left;\n",
              "    }\n",
              "\n",
              "    .dataframe thead tr:last-of-type th {\n",
              "        text-align: right;\n",
              "    }\n",
              "</style>\n",
              "<table border=\"1\" class=\"dataframe\">\n",
              "  <thead>\n",
              "    <tr>\n",
              "      <th></th>\n",
              "      <th colspan=\"4\" halign=\"left\">Accuracy</th>\n",
              "      <th colspan=\"4\" halign=\"left\">MMRE</th>\n",
              "      <th colspan=\"4\" halign=\"left\">MAE</th>\n",
              "    </tr>\n",
              "    <tr>\n",
              "      <th>Classifier</th>\n",
              "      <th>Dev</th>\n",
              "      <th>Similarity</th>\n",
              "      <th>Text</th>\n",
              "      <th>Text+Dev</th>\n",
              "      <th>Dev</th>\n",
              "      <th>Similarity</th>\n",
              "      <th>Text</th>\n",
              "      <th>Text+Dev</th>\n",
              "      <th>Dev</th>\n",
              "      <th>Similarity</th>\n",
              "      <th>Text</th>\n",
              "      <th>Text+Dev</th>\n",
              "    </tr>\n",
              "    <tr>\n",
              "      <th>project</th>\n",
              "      <th></th>\n",
              "      <th></th>\n",
              "      <th></th>\n",
              "      <th></th>\n",
              "      <th></th>\n",
              "      <th></th>\n",
              "      <th></th>\n",
              "      <th></th>\n",
              "      <th></th>\n",
              "      <th></th>\n",
              "      <th></th>\n",
              "      <th></th>\n",
              "    </tr>\n",
              "  </thead>\n",
              "  <tbody>\n",
              "    <tr>\n",
              "      <th>apstud</th>\n",
              "      <td>0.348</td>\n",
              "      <td>0.335</td>\n",
              "      <td>0.343</td>\n",
              "      <td>0.351</td>\n",
              "      <td>0.852</td>\n",
              "      <td>0.822</td>\n",
              "      <td>0.783</td>\n",
              "      <td>0.752</td>\n",
              "      <td>3.738</td>\n",
              "      <td>3.642</td>\n",
              "      <td>3.640</td>\n",
              "      <td>3.650</td>\n",
              "    </tr>\n",
              "    <tr>\n",
              "      <th>dnn</th>\n",
              "      <td>0.504</td>\n",
              "      <td>0.504</td>\n",
              "      <td>0.479</td>\n",
              "      <td>0.458</td>\n",
              "      <td>0.335</td>\n",
              "      <td>0.335</td>\n",
              "      <td>0.361</td>\n",
              "      <td>0.378</td>\n",
              "      <td>0.661</td>\n",
              "      <td>0.661</td>\n",
              "      <td>0.706</td>\n",
              "      <td>0.735</td>\n",
              "    </tr>\n",
              "    <tr>\n",
              "      <th>mesos</th>\n",
              "      <td>0.318</td>\n",
              "      <td>0.283</td>\n",
              "      <td>0.320</td>\n",
              "      <td>0.322</td>\n",
              "      <td>0.597</td>\n",
              "      <td>0.755</td>\n",
              "      <td>0.578</td>\n",
              "      <td>0.561</td>\n",
              "      <td>1.486</td>\n",
              "      <td>1.427</td>\n",
              "      <td>1.458</td>\n",
              "      <td>1.420</td>\n",
              "    </tr>\n",
              "    <tr>\n",
              "      <th>mule</th>\n",
              "      <td>0.333</td>\n",
              "      <td>0.255</td>\n",
              "      <td>0.245</td>\n",
              "      <td>0.286</td>\n",
              "      <td>0.697</td>\n",
              "      <td>1.151</td>\n",
              "      <td>1.096</td>\n",
              "      <td>0.957</td>\n",
              "      <td>2.518</td>\n",
              "      <td>2.570</td>\n",
              "      <td>3.025</td>\n",
              "      <td>2.890</td>\n",
              "    </tr>\n",
              "    <tr>\n",
              "      <th>nexus</th>\n",
              "      <td>0.572</td>\n",
              "      <td>0.537</td>\n",
              "      <td>0.511</td>\n",
              "      <td>0.541</td>\n",
              "      <td>0.298</td>\n",
              "      <td>0.356</td>\n",
              "      <td>0.375</td>\n",
              "      <td>0.350</td>\n",
              "      <td>0.473</td>\n",
              "      <td>0.484</td>\n",
              "      <td>0.509</td>\n",
              "      <td>0.494</td>\n",
              "    </tr>\n",
              "    <tr>\n",
              "      <th>tistud</th>\n",
              "      <td>0.406</td>\n",
              "      <td>0.406</td>\n",
              "      <td>0.384</td>\n",
              "      <td>0.376</td>\n",
              "      <td>0.441</td>\n",
              "      <td>0.441</td>\n",
              "      <td>0.518</td>\n",
              "      <td>0.527</td>\n",
              "      <td>1.931</td>\n",
              "      <td>1.931</td>\n",
              "      <td>2.096</td>\n",
              "      <td>2.155</td>\n",
              "    </tr>\n",
              "    <tr>\n",
              "      <th>xd</th>\n",
              "      <td>0.295</td>\n",
              "      <td>0.278</td>\n",
              "      <td>0.291</td>\n",
              "      <td>0.289</td>\n",
              "      <td>0.580</td>\n",
              "      <td>0.496</td>\n",
              "      <td>0.767</td>\n",
              "      <td>0.753</td>\n",
              "      <td>2.049</td>\n",
              "      <td>2.213</td>\n",
              "      <td>1.944</td>\n",
              "      <td>1.937</td>\n",
              "    </tr>\n",
              "    <tr>\n",
              "      <th>Average</th>\n",
              "      <td>0.397</td>\n",
              "      <td>0.371</td>\n",
              "      <td>0.368</td>\n",
              "      <td>0.375</td>\n",
              "      <td>0.543</td>\n",
              "      <td>0.622</td>\n",
              "      <td>0.640</td>\n",
              "      <td>0.611</td>\n",
              "      <td>1.837</td>\n",
              "      <td>1.847</td>\n",
              "      <td>1.911</td>\n",
              "      <td>1.897</td>\n",
              "    </tr>\n",
              "  </tbody>\n",
              "</table>\n",
              "</div>"
            ],
            "text/plain": [
              "           Accuracy                              MMRE                    \\\n",
              "Classifier      Dev Similarity   Text Text+Dev    Dev Similarity   Text   \n",
              "project                                                                   \n",
              "apstud        0.348      0.335  0.343    0.351  0.852      0.822  0.783   \n",
              "dnn           0.504      0.504  0.479    0.458  0.335      0.335  0.361   \n",
              "mesos         0.318      0.283  0.320    0.322  0.597      0.755  0.578   \n",
              "mule          0.333      0.255  0.245    0.286  0.697      1.151  1.096   \n",
              "nexus         0.572      0.537  0.511    0.541  0.298      0.356  0.375   \n",
              "tistud        0.406      0.406  0.384    0.376  0.441      0.441  0.518   \n",
              "xd            0.295      0.278  0.291    0.289  0.580      0.496  0.767   \n",
              "Average       0.397      0.371  0.368    0.375  0.543      0.622  0.640   \n",
              "\n",
              "                       MAE                             \n",
              "Classifier Text+Dev    Dev Similarity   Text Text+Dev  \n",
              "project                                                \n",
              "apstud        0.752  3.738      3.642  3.640    3.650  \n",
              "dnn           0.378  0.661      0.661  0.706    0.735  \n",
              "mesos         0.561  1.486      1.427  1.458    1.420  \n",
              "mule          0.957  2.518      2.570  3.025    2.890  \n",
              "nexus         0.350  0.473      0.484  0.509    0.494  \n",
              "tistud        0.527  1.931      1.931  2.096    2.155  \n",
              "xd            0.753  2.049      2.213  1.944    1.937  \n",
              "Average       0.611  1.837      1.847  1.911    1.897  "
            ]
          },
          "metadata": {
            "tags": []
          },
          "execution_count": 172
        }
      ]
    },
    {
      "metadata": {
        "collapsed": true,
        "id": "WxPViJ7B0u45",
        "colab_type": "text"
      },
      "cell_type": "markdown",
      "source": [
        "# Random guessing"
      ]
    },
    {
      "metadata": {
        "id": "GOWv7GFv0PEQ",
        "colab_type": "text"
      },
      "cell_type": "markdown",
      "source": [
        "# New Section"
      ]
    },
    {
      "metadata": {
        "id": "xnsm75W20u47",
        "colab_type": "code",
        "colab": {}
      },
      "cell_type": "code",
      "source": [
        "import random\n",
        "from scipy import stats\n",
        "\n",
        "rs = pd.DataFrame()\n",
        "\n",
        "for p in xdf['project'].unique():\n",
        "    \n",
        "    df = xdf[xdf['project'] == p]\n",
        "    \n",
        "    df.loc[df['storypoints'] == 0, 'storypoints'] = 0.5\n",
        "    \n",
        "    mae_mean = np.sum(np.abs(df['storypoints'] - df['storypoints'].mean()))/len(df)\n",
        "    #mre_mean = np.sum(np.abs(df['storypoints'] - df['storypoints'].mean())/df['storypoints'])/len(df)\n",
        "    \n",
        "    d1 = {\n",
        "        \"project\": p,\n",
        "        \"Classifier\": \"Mean\",\n",
        "      #  \"MMRE\": mre_mean,\n",
        "        \"MAE\": mae_mean,\n",
        "        \"Accuracy\": None\n",
        "    }\n",
        "    rs = rs.append(d1, ignore_index=True)\n",
        "    \n",
        "    mae_median = np.sum(np.abs(df['storypoints'] - df['storypoints'].median()))/len(df)\n",
        "    #mre_median = np.sum(np.abs(df['storypoints'] - df['storypoints'].median())/df['storypoints'])/len(df)\n",
        "    acc_median = len(df[df['storypoints'] == df['storypoints'].median()])/len(df)\n",
        "    \n",
        "    d2 = {\n",
        "        \"project\": p,\n",
        "        \"Classifier\": \"Median\",\n",
        "       # \"MMRE\": mre_median,\n",
        "        \"MAE\": mae_median,\n",
        "        \"Accuracy\": acc_median\n",
        "    }\n",
        "    rs = rs.append(d2, ignore_index=True)\n",
        "    # Random Guess baseline \n",
        "    \n",
        "    rguess = []\n",
        "    for i in range(len(df)):\n",
        "        rguess.append( random.choice(fibonacci) )\n",
        "\n",
        "    mae_rguess = np.sum(np.abs(df['storypoints'] - rguess))/len(df)\n",
        "    #mre_rguess = np.sum(np.abs(df['storypoints'] - rguess)/df['storypoints'])/len(df)\n",
        "    acc_rguess = len(df[df['storypoints'] == rguess])/len(df)\n",
        "    \n",
        "    d3 = {\n",
        "        \"project\": p,\n",
        "        \"Classifier\": \"Random Guess\",\n",
        "       # \"MMRE\": mre_rguess,\n",
        "        \"MAE\": mae_rguess,\n",
        "        \"Accuracy\": acc_rguess\n",
        "    }\n",
        "    rs = rs.append(d3, ignore_index=True)\n",
        "    "
      ],
      "execution_count": 0,
      "outputs": []
    },
    {
      "metadata": {
        "id": "YRWLiYyG0u5A",
        "colab_type": "code",
        "colab": {}
      },
      "cell_type": "code",
      "source": [
        "rsp = rs.pivot(index='project', columns='Classifier')\n",
        "rsp = rsp.drop(columns=[('Accuracy', 'Mean')])\n",
        "rsp.round(3)"
      ],
      "execution_count": 0,
      "outputs": []
    },
    {
      "metadata": {
        "id": "XMtI7AtO0u5E",
        "colab_type": "code",
        "colab": {}
      },
      "cell_type": "code",
      "source": [
        "# rs + rrr\n",
        "frr = pd.concat([rs,fr])[[ 'Classifier', 'project', 'Accuracy', 'MAE' ]]\n",
        "\n",
        "frrr = frr.pivot(index='project', columns='Classifier')\n",
        "\n",
        "#frrr.loc['Average'] = frr.pivot(index='project', columns='Classifier').mean()\n",
        "\n",
        "frrr = frrr.astype(float)\n",
        "\n",
        "frrr"
      ],
      "execution_count": 0,
      "outputs": []
    },
    {
      "metadata": {
        "id": "Ia19qQG90u5J",
        "colab_type": "code",
        "colab": {}
      },
      "cell_type": "code",
      "source": [
        "d = {\n",
        "    \"Dev\" : (1 - frrr['MAE']['Dev']/rsp['MAE']['Random Guess'])*100,\n",
        "    \"Text\" : (1 - frrr['MAE']['Text']/rsp['MAE']['Random Guess'])*100,\n",
        "    \"Text+Dev\" : (1 - frrr['MAE']['Text+Dev']/rsp['MAE']['Random Guess'])*100,\n",
        "    \"Median\" : (1 - frrr['MAE']['Median']/rsp['MAE']['Random Guess'])*100,\n",
        "    \"Mean\" : (1 - frrr['MAE']['Mean']/rsp['MAE']['Random Guess'])*100\n",
        "    }\n",
        "sa = pd.DataFrame(d)"
      ],
      "execution_count": 0,
      "outputs": []
    },
    {
      "metadata": {
        "id": "H9JRSp6I0u5M",
        "colab_type": "code",
        "colab": {}
      },
      "cell_type": "code",
      "source": [
        "sa"
      ],
      "execution_count": 0,
      "outputs": []
    },
    {
      "metadata": {
        "id": "8fmz_l1t0u5W",
        "colab_type": "code",
        "colab": {}
      },
      "cell_type": "code",
      "source": [
        "w = pd.concat([frrr, sa], axis=1)"
      ],
      "execution_count": 0,
      "outputs": []
    },
    {
      "metadata": {
        "id": "bwoU0-pe0u5d",
        "colab_type": "code",
        "colab": {}
      },
      "cell_type": "code",
      "source": [
        "w[('SA','Dev')] = w['Dev']\n",
        "w[('SA','Text')] = w['Text']\n",
        "w[('SA','Text+Dev')] = w['Text+Dev']\n",
        "w[('SA','Mean')] = w['Mean']\n",
        "w[('SA','Median')] = w['Median']"
      ],
      "execution_count": 0,
      "outputs": []
    },
    {
      "metadata": {
        "id": "-0zi3euy0u5h",
        "colab_type": "code",
        "colab": {}
      },
      "cell_type": "code",
      "source": [
        "evalresults = w[[('Accuracy', 'Dev'),('Accuracy', 'Text'),('Accuracy', 'Text+Dev'),('Accuracy', 'Median'),('Accuracy', 'Random Guess'),\n",
        "  ('MAE', 'Dev'),('MAE', 'Text'),('MAE', 'Text+Dev'),('MAE', 'Mean'),('MAE', 'Median'),('MAE', 'Random Guess'),\n",
        "  ('SA','Dev'),('SA', 'Text'),('SA', 'Text+Dev'),('SA', 'Mean'),('SA', 'Median')\n",
        "  ]]"
      ],
      "execution_count": 0,
      "outputs": []
    },
    {
      "metadata": {
        "id": "5Ywgs3mA0u5j",
        "colab_type": "code",
        "colab": {}
      },
      "cell_type": "code",
      "source": [
        "evalresults.loc['Average'] = evalresults.mean()\n",
        "evalresults.round(3)"
      ],
      "execution_count": 0,
      "outputs": []
    }
  ]
}